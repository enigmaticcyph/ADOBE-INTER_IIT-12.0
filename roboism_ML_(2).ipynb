{
  "cells": [
    {
      "cell_type": "markdown",
      "metadata": {
        "id": "view-in-github",
        "colab_type": "text"
      },
      "source": [
        "<a href=\"https://colab.research.google.com/github/enigmaticcyph/ADOBE-INTER_IIT-12.0/blob/main/roboism_ML_(2).ipynb\" target=\"_parent\"><img src=\"https://colab.research.google.com/assets/colab-badge.svg\" alt=\"Open In Colab\"/></a>"
      ]
    },
    {
      "cell_type": "markdown",
      "id": "932528aa-3f34-468b-9aa6-c33f2d855c78",
      "metadata": {
        "id": "932528aa-3f34-468b-9aa6-c33f2d855c78"
      },
      "source": [
        "MADE BY:RITESH KUMBHARE(24JE0442) COURSE:BTECH PROGRAMME:MINING ENGINEERING"
      ]
    },
    {
      "cell_type": "code",
      "execution_count": null,
      "id": "b81a6952-1bf4-4b1c-b402-537a961aeb0a",
      "metadata": {
        "id": "b81a6952-1bf4-4b1c-b402-537a961aeb0a",
        "outputId": "e59059dd-fe1f-49ad-8e0e-bb8247f90f95"
      },
      "outputs": [
        {
          "name": "stdout",
          "output_type": "stream",
          "text": [
            "iteration 0,cost:387607184.60678166\n",
            "iteration 10,cost:273277520.14712656\n",
            "iteration 20,cost:192674718.80403376\n",
            "iteration 30,cost:135848850.0085424\n",
            "iteration 40,cost:95785461.32720424\n",
            "iteration 50,cost:67539523.15290578\n",
            "iteration 60,cost:47624888.59393699\n",
            "iteration 70,cost:33583882.648670584\n",
            "iteration 80,cost:23683876.297183797\n",
            "iteration 90,cost:16703380.622675098\n"
          ]
        },
        {
          "data": {
            "text/plain": [
              "array([[231.80508263]])"
            ]
          },
          "execution_count": 1,
          "metadata": {},
          "output_type": "execute_result"
        }
      ],
      "source": [
        "import pandas as pd\n",
        "import numpy as np\n",
        "import matplotlib.pyplot as plt\n",
        "data=pd.read_csv(\"C:\\\\Users\\\\AK\\\\Desktop\\\\spectacle_price_dataset_no_material.csv\")\n",
        "data\n",
        "x_train=np.array(data.iloc[1:9996,0:5])\n",
        "y_train=np.array(data.iloc[1:9996,5:6])\n",
        "x_test=np.array(data.iloc[9996:10001,0:5])\n",
        "y_test=np.array(data.iloc[9996:10001,0:5])\n",
        "def cost_function_and_gradient_descent(x,y,w,b):\n",
        "    m,n=x.shape\n",
        "    y_pred=np.matmul(x,w)+b\n",
        "    error=y_pred-y\n",
        "    cost=(1/(2*m))*(np.sum(error))**2\n",
        "    dw=(1/m)*np.matmul(x.T,error)\n",
        "    db=(1/m)*np.sum(error)\n",
        "    return cost,dw,db\n",
        "def model(x_train,y_train,alpha=0.000001,iterations=1000):\n",
        "    m,n=x_train.shape\n",
        "    w=np.zeros((n,1))\n",
        "    b=0\n",
        "    cost_all=[]\n",
        "    for i in range(iterations):\n",
        "        cost,dw,db=cost_function_and_gradient_descent(x_train,y_train,w,b)\n",
        "        w-=alpha*dw\n",
        "        b-=alpha*db\n",
        "        cost_all.append(cost)\n",
        "        if i%10==0:\n",
        "            print(f\"iteration {i},cost:{cost}\")\n",
        "    return w,b,cost_all\n",
        "alpha=0.00000043\n",
        "iterations=100\n",
        "w,b,cost_all=model(x_train,y_train,alpha,iterations)\n",
        "\n",
        "\n",
        "#TESTING OF SR.NO.9995(PRICE=$230.838...)\n",
        "w_new=w.reshape(1,5)\n",
        "test=np.array(data.iloc[9995:9996,0:5])\n",
        "test_new=test.reshape(5,1)\n",
        "y_pred=np.dot(w_new,test_new)+b\n",
        "y_pred\n"
      ]
    },
    {
      "cell_type": "code",
      "execution_count": null,
      "id": "6bf6db46-bd73-46b0-ab7a-0dbf82dee022",
      "metadata": {
        "id": "6bf6db46-bd73-46b0-ab7a-0dbf82dee022"
      },
      "outputs": [],
      "source": []
    }
  ],
  "metadata": {
    "kernelspec": {
      "display_name": "Python 3 (ipykernel)",
      "language": "python",
      "name": "python3"
    },
    "language_info": {
      "codemirror_mode": {
        "name": "ipython",
        "version": 3
      },
      "file_extension": ".py",
      "mimetype": "text/x-python",
      "name": "python",
      "nbconvert_exporter": "python",
      "pygments_lexer": "ipython3",
      "version": "3.11.3"
    },
    "colab": {
      "provenance": [],
      "include_colab_link": true
    }
  },
  "nbformat": 4,
  "nbformat_minor": 5
}